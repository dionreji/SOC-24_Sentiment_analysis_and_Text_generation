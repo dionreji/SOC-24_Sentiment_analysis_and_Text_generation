{
 "cells": [
  {
   "cell_type": "markdown",
   "metadata": {},
   "source": [
    "Import necessary packages"
   ]
  },
  {
   "cell_type": "code",
   "execution_count": 1,
   "metadata": {},
   "outputs": [],
   "source": [
    "import numpy as np\n",
    "import matplotlib.pyplot as plt\n",
    "import pandas as pd"
   ]
  },
  {
   "cell_type": "markdown",
   "metadata": {},
   "source": [
    "TODO 1: Read the data from ```data.csv``` using ```pandas```"
   ]
  },
  {
   "cell_type": "code",
   "execution_count": 2,
   "metadata": {},
   "outputs": [],
   "source": [
    "# Complete TODO 1\n",
    "# Store the column labelleed X as a numpy array named X \n",
    "# Store the column labeled y as a numpy array named y\n",
    "# Ensure that you reshape them properly"
   ]
  },
  {
   "cell_type": "markdown",
   "metadata": {},
   "source": [
    "TODO 2: Complete the ```normalize``` function. For a numpy array X, normalized output will be \n",
    "```(X - mean(X))/standard_devaiation(X)```\n"
   ]
  },
  {
   "cell_type": "code",
   "execution_count": null,
   "metadata": {},
   "outputs": [],
   "source": [
    "def normalize(X):\n",
    "    #Complete TODO 2\n",
    "\n",
    "X_norm = normalize(X)\n",
    "y_norm = normalize(y)\n",
    "\n",
    "# Initialize parameters\n",
    "theta = np.random.randn(2, 1)  # We have 2 parameters (theta_0 and theta_1)"
   ]
  },
  {
   "cell_type": "markdown",
   "metadata": {},
   "source": [
    "TODO 3: Complete the function ```complete_cost``` function below. Refer to Problem statement for the cost (error) function for linear regression.\n",
    "\n",
    "Here, ```X``` : np.array of x-coordinates of points\n",
    "\n",
    "```y``` : np.array of y-coordinates of points\n",
    "\n",
    "```theta``` : np.array of parameters"
   ]
  },
  {
   "cell_type": "code",
   "execution_count": null,
   "metadata": {},
   "outputs": [],
   "source": [
    "def compute_cost(X, y, theta):\n",
    "    m = len(y)\n",
    "    X_b = np.c_[np.ones((m, 1)), X]  # Add bias term (x0 = 1)\n",
    "    #Complete TODO 3\n",
    "    return cost"
   ]
  },
  {
   "cell_type": "markdown",
   "metadata": {},
   "source": [
    "TODO 4: Implement Gradient Descent for linear regression according to algorithm given in the Problem Statement. Your only task is to update theta properly by finding the gradient correctly."
   ]
  },
  {
   "cell_type": "code",
   "execution_count": null,
   "metadata": {},
   "outputs": [],
   "source": [
    "def gradient_descent(X, y, theta, learning_rate, iterations):\n",
    "    m = len(y)\n",
    "    X_b = np.c_[np.ones((m, 1)), X]  # Add bias term (x0 = 1)\n",
    "    cost_history = []\n",
    "\n",
    "    for _ in range(iterations):\n",
    "        #Complete TODO 4\n",
    "        # Update theta properly\n",
    "        cost = compute_cost(X, y, theta)\n",
    "        cost_history.append(cost)\n",
    "\n",
    "    return theta, cost_history"
   ]
  },
  {
   "cell_type": "markdown",
   "metadata": {},
   "source": [
    "TODO 5: Find ```theta_optimal``` and ```cost_history``` by calling the ```gradient_descent``` function. Also, print them."
   ]
  },
  {
   "cell_type": "code",
   "execution_count": null,
   "metadata": {},
   "outputs": [],
   "source": [
    "learning_rate = 0.1\n",
    "iterations = 1000\n",
    "\n",
    "#Complete TODO 5"
   ]
  }
 ],
 "metadata": {
  "kernelspec": {
   "display_name": "Python 3",
   "language": "python",
   "name": "python3"
  },
  "language_info": {
   "codemirror_mode": {
    "name": "ipython",
    "version": 3
   },
   "file_extension": ".py",
   "mimetype": "text/x-python",
   "name": "python",
   "nbconvert_exporter": "python",
   "pygments_lexer": "ipython3",
   "version": "3.11.9"
  }
 },
 "nbformat": 4,
 "nbformat_minor": 2
}
